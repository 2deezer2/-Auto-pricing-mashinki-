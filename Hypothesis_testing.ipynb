{
  "nbformat": 4,
  "nbformat_minor": 0,
  "metadata": {
    "colab": {
      "provenance": []
    },
    "kernelspec": {
      "name": "python3",
      "display_name": "Python 3"
    },
    "language_info": {
      "name": "python"
    }
  },
  "cells": [
    {
      "cell_type": "code",
      "execution_count": 1,
      "metadata": {
        "colab": {
          "base_uri": "https://localhost:8080/",
          "height": 619
        },
        "id": "BmraCvhN_zTD",
        "outputId": "338f8d74-549d-44ad-b47c-3af0e9d277f1"
      },
      "outputs": [
        {
          "output_type": "execute_result",
          "data": {
            "text/plain": [
              "       Unnamed: 0  Custom  Number_of_owners  Year      Price  Region  \\\n",
              "0               0       1                 4  2000   310000.0  Москва   \n",
              "1               1       1                 1  2022  3500000.0  Москва   \n",
              "2               2       1                 1  2019  8000000.0  Москва   \n",
              "3               3       1                 2  2011   310000.0  Москва   \n",
              "4               4       1                 3  2018  2020000.0  Москва   \n",
              "...           ...     ...               ...   ...        ...     ...   \n",
              "66928       66928       1                 3  2013  2490000.0   Химки   \n",
              "66929       66929       1                 1  2019  9700000.0  Москва   \n",
              "66930       66930       1                 1  2018  5250000.0  Москва   \n",
              "66931       66931       1                 3  2013  2880000.0  Москва   \n",
              "66932       66932       1                 1  2021  6620000.0  Москва   \n",
              "\n",
              "        Mileage          Brand  Сегмент  Power               Type Engine_type  \\\n",
              "0      132000.0     LADA (ВАЗ)  ECONOMY   79.0  Внедорожник 3 дв.    GASOLINE   \n",
              "1        4000.0          Skoda   MEDIUM  190.0            Лифтбек    GASOLINE   \n",
              "2       14000.0  Mercedes-Benz  PREMIUM  469.0         Седан Long    GASOLINE   \n",
              "3       25000.0     LADA (ВАЗ)  ECONOMY   80.0              Седан    GASOLINE   \n",
              "4       61000.0           Audi  PREMIUM  150.0              Седан    GASOLINE   \n",
              "...         ...            ...      ...    ...                ...         ...   \n",
              "66928  120000.0     Land Rover  PREMIUM  245.0  Внедорожник 5 дв.      DIESEL   \n",
              "66929   61000.0     Land Rover  PREMIUM  380.0  Внедорожник 5 дв.    GASOLINE   \n",
              "66930  159000.0            BMW  PREMIUM  265.0  Внедорожник 5 дв.      DIESEL   \n",
              "66931   96000.0            BMW  PREMIUM  184.0               Купе      DIESEL   \n",
              "66932    7000.0           Jeep   MEDIUM  470.0  Внедорожник 5 дв.    GASOLINE   \n",
              "\n",
              "      Положение руля           Привод Transmission  \n",
              "0               LEFT  ALL_WHEEL_DRIVE   MECHANICAL  \n",
              "1               LEFT  FORWARD_CONTROL        ROBOT  \n",
              "2               LEFT  ALL_WHEEL_DRIVE    AUTOMATIC  \n",
              "3               LEFT       REAR_DRIVE   MECHANICAL  \n",
              "4               LEFT  FORWARD_CONTROL        ROBOT  \n",
              "...              ...              ...          ...  \n",
              "66928           LEFT  ALL_WHEEL_DRIVE    AUTOMATIC  \n",
              "66929           LEFT  ALL_WHEEL_DRIVE    AUTOMATIC  \n",
              "66930           LEFT  ALL_WHEEL_DRIVE    AUTOMATIC  \n",
              "66931           LEFT  ALL_WHEEL_DRIVE   MECHANICAL  \n",
              "66932           LEFT  ALL_WHEEL_DRIVE    AUTOMATIC  \n",
              "\n",
              "[66933 rows x 15 columns]"
            ],
            "text/html": [
              "\n",
              "  <div id=\"df-0f65d45f-2d45-4ef6-88ae-e469589d40fb\">\n",
              "    <div class=\"colab-df-container\">\n",
              "      <div>\n",
              "<style scoped>\n",
              "    .dataframe tbody tr th:only-of-type {\n",
              "        vertical-align: middle;\n",
              "    }\n",
              "\n",
              "    .dataframe tbody tr th {\n",
              "        vertical-align: top;\n",
              "    }\n",
              "\n",
              "    .dataframe thead th {\n",
              "        text-align: right;\n",
              "    }\n",
              "</style>\n",
              "<table border=\"1\" class=\"dataframe\">\n",
              "  <thead>\n",
              "    <tr style=\"text-align: right;\">\n",
              "      <th></th>\n",
              "      <th>Unnamed: 0</th>\n",
              "      <th>Custom</th>\n",
              "      <th>Number_of_owners</th>\n",
              "      <th>Year</th>\n",
              "      <th>Price</th>\n",
              "      <th>Region</th>\n",
              "      <th>Mileage</th>\n",
              "      <th>Brand</th>\n",
              "      <th>Сегмент</th>\n",
              "      <th>Power</th>\n",
              "      <th>Type</th>\n",
              "      <th>Engine_type</th>\n",
              "      <th>Положение руля</th>\n",
              "      <th>Привод</th>\n",
              "      <th>Transmission</th>\n",
              "    </tr>\n",
              "  </thead>\n",
              "  <tbody>\n",
              "    <tr>\n",
              "      <th>0</th>\n",
              "      <td>0</td>\n",
              "      <td>1</td>\n",
              "      <td>4</td>\n",
              "      <td>2000</td>\n",
              "      <td>310000.0</td>\n",
              "      <td>Москва</td>\n",
              "      <td>132000.0</td>\n",
              "      <td>LADA (ВАЗ)</td>\n",
              "      <td>ECONOMY</td>\n",
              "      <td>79.0</td>\n",
              "      <td>Внедорожник 3 дв.</td>\n",
              "      <td>GASOLINE</td>\n",
              "      <td>LEFT</td>\n",
              "      <td>ALL_WHEEL_DRIVE</td>\n",
              "      <td>MECHANICAL</td>\n",
              "    </tr>\n",
              "    <tr>\n",
              "      <th>1</th>\n",
              "      <td>1</td>\n",
              "      <td>1</td>\n",
              "      <td>1</td>\n",
              "      <td>2022</td>\n",
              "      <td>3500000.0</td>\n",
              "      <td>Москва</td>\n",
              "      <td>4000.0</td>\n",
              "      <td>Skoda</td>\n",
              "      <td>MEDIUM</td>\n",
              "      <td>190.0</td>\n",
              "      <td>Лифтбек</td>\n",
              "      <td>GASOLINE</td>\n",
              "      <td>LEFT</td>\n",
              "      <td>FORWARD_CONTROL</td>\n",
              "      <td>ROBOT</td>\n",
              "    </tr>\n",
              "    <tr>\n",
              "      <th>2</th>\n",
              "      <td>2</td>\n",
              "      <td>1</td>\n",
              "      <td>1</td>\n",
              "      <td>2019</td>\n",
              "      <td>8000000.0</td>\n",
              "      <td>Москва</td>\n",
              "      <td>14000.0</td>\n",
              "      <td>Mercedes-Benz</td>\n",
              "      <td>PREMIUM</td>\n",
              "      <td>469.0</td>\n",
              "      <td>Седан Long</td>\n",
              "      <td>GASOLINE</td>\n",
              "      <td>LEFT</td>\n",
              "      <td>ALL_WHEEL_DRIVE</td>\n",
              "      <td>AUTOMATIC</td>\n",
              "    </tr>\n",
              "    <tr>\n",
              "      <th>3</th>\n",
              "      <td>3</td>\n",
              "      <td>1</td>\n",
              "      <td>2</td>\n",
              "      <td>2011</td>\n",
              "      <td>310000.0</td>\n",
              "      <td>Москва</td>\n",
              "      <td>25000.0</td>\n",
              "      <td>LADA (ВАЗ)</td>\n",
              "      <td>ECONOMY</td>\n",
              "      <td>80.0</td>\n",
              "      <td>Седан</td>\n",
              "      <td>GASOLINE</td>\n",
              "      <td>LEFT</td>\n",
              "      <td>REAR_DRIVE</td>\n",
              "      <td>MECHANICAL</td>\n",
              "    </tr>\n",
              "    <tr>\n",
              "      <th>4</th>\n",
              "      <td>4</td>\n",
              "      <td>1</td>\n",
              "      <td>3</td>\n",
              "      <td>2018</td>\n",
              "      <td>2020000.0</td>\n",
              "      <td>Москва</td>\n",
              "      <td>61000.0</td>\n",
              "      <td>Audi</td>\n",
              "      <td>PREMIUM</td>\n",
              "      <td>150.0</td>\n",
              "      <td>Седан</td>\n",
              "      <td>GASOLINE</td>\n",
              "      <td>LEFT</td>\n",
              "      <td>FORWARD_CONTROL</td>\n",
              "      <td>ROBOT</td>\n",
              "    </tr>\n",
              "    <tr>\n",
              "      <th>...</th>\n",
              "      <td>...</td>\n",
              "      <td>...</td>\n",
              "      <td>...</td>\n",
              "      <td>...</td>\n",
              "      <td>...</td>\n",
              "      <td>...</td>\n",
              "      <td>...</td>\n",
              "      <td>...</td>\n",
              "      <td>...</td>\n",
              "      <td>...</td>\n",
              "      <td>...</td>\n",
              "      <td>...</td>\n",
              "      <td>...</td>\n",
              "      <td>...</td>\n",
              "      <td>...</td>\n",
              "    </tr>\n",
              "    <tr>\n",
              "      <th>66928</th>\n",
              "      <td>66928</td>\n",
              "      <td>1</td>\n",
              "      <td>3</td>\n",
              "      <td>2013</td>\n",
              "      <td>2490000.0</td>\n",
              "      <td>Химки</td>\n",
              "      <td>120000.0</td>\n",
              "      <td>Land Rover</td>\n",
              "      <td>PREMIUM</td>\n",
              "      <td>245.0</td>\n",
              "      <td>Внедорожник 5 дв.</td>\n",
              "      <td>DIESEL</td>\n",
              "      <td>LEFT</td>\n",
              "      <td>ALL_WHEEL_DRIVE</td>\n",
              "      <td>AUTOMATIC</td>\n",
              "    </tr>\n",
              "    <tr>\n",
              "      <th>66929</th>\n",
              "      <td>66929</td>\n",
              "      <td>1</td>\n",
              "      <td>1</td>\n",
              "      <td>2019</td>\n",
              "      <td>9700000.0</td>\n",
              "      <td>Москва</td>\n",
              "      <td>61000.0</td>\n",
              "      <td>Land Rover</td>\n",
              "      <td>PREMIUM</td>\n",
              "      <td>380.0</td>\n",
              "      <td>Внедорожник 5 дв.</td>\n",
              "      <td>GASOLINE</td>\n",
              "      <td>LEFT</td>\n",
              "      <td>ALL_WHEEL_DRIVE</td>\n",
              "      <td>AUTOMATIC</td>\n",
              "    </tr>\n",
              "    <tr>\n",
              "      <th>66930</th>\n",
              "      <td>66930</td>\n",
              "      <td>1</td>\n",
              "      <td>1</td>\n",
              "      <td>2018</td>\n",
              "      <td>5250000.0</td>\n",
              "      <td>Москва</td>\n",
              "      <td>159000.0</td>\n",
              "      <td>BMW</td>\n",
              "      <td>PREMIUM</td>\n",
              "      <td>265.0</td>\n",
              "      <td>Внедорожник 5 дв.</td>\n",
              "      <td>DIESEL</td>\n",
              "      <td>LEFT</td>\n",
              "      <td>ALL_WHEEL_DRIVE</td>\n",
              "      <td>AUTOMATIC</td>\n",
              "    </tr>\n",
              "    <tr>\n",
              "      <th>66931</th>\n",
              "      <td>66931</td>\n",
              "      <td>1</td>\n",
              "      <td>3</td>\n",
              "      <td>2013</td>\n",
              "      <td>2880000.0</td>\n",
              "      <td>Москва</td>\n",
              "      <td>96000.0</td>\n",
              "      <td>BMW</td>\n",
              "      <td>PREMIUM</td>\n",
              "      <td>184.0</td>\n",
              "      <td>Купе</td>\n",
              "      <td>DIESEL</td>\n",
              "      <td>LEFT</td>\n",
              "      <td>ALL_WHEEL_DRIVE</td>\n",
              "      <td>MECHANICAL</td>\n",
              "    </tr>\n",
              "    <tr>\n",
              "      <th>66932</th>\n",
              "      <td>66932</td>\n",
              "      <td>1</td>\n",
              "      <td>1</td>\n",
              "      <td>2021</td>\n",
              "      <td>6620000.0</td>\n",
              "      <td>Москва</td>\n",
              "      <td>7000.0</td>\n",
              "      <td>Jeep</td>\n",
              "      <td>MEDIUM</td>\n",
              "      <td>470.0</td>\n",
              "      <td>Внедорожник 5 дв.</td>\n",
              "      <td>GASOLINE</td>\n",
              "      <td>LEFT</td>\n",
              "      <td>ALL_WHEEL_DRIVE</td>\n",
              "      <td>AUTOMATIC</td>\n",
              "    </tr>\n",
              "  </tbody>\n",
              "</table>\n",
              "<p>66933 rows × 15 columns</p>\n",
              "</div>\n",
              "      <button class=\"colab-df-convert\" onclick=\"convertToInteractive('df-0f65d45f-2d45-4ef6-88ae-e469589d40fb')\"\n",
              "              title=\"Convert this dataframe to an interactive table.\"\n",
              "              style=\"display:none;\">\n",
              "        \n",
              "  <svg xmlns=\"http://www.w3.org/2000/svg\" height=\"24px\"viewBox=\"0 0 24 24\"\n",
              "       width=\"24px\">\n",
              "    <path d=\"M0 0h24v24H0V0z\" fill=\"none\"/>\n",
              "    <path d=\"M18.56 5.44l.94 2.06.94-2.06 2.06-.94-2.06-.94-.94-2.06-.94 2.06-2.06.94zm-11 1L8.5 8.5l.94-2.06 2.06-.94-2.06-.94L8.5 2.5l-.94 2.06-2.06.94zm10 10l.94 2.06.94-2.06 2.06-.94-2.06-.94-.94-2.06-.94 2.06-2.06.94z\"/><path d=\"M17.41 7.96l-1.37-1.37c-.4-.4-.92-.59-1.43-.59-.52 0-1.04.2-1.43.59L10.3 9.45l-7.72 7.72c-.78.78-.78 2.05 0 2.83L4 21.41c.39.39.9.59 1.41.59.51 0 1.02-.2 1.41-.59l7.78-7.78 2.81-2.81c.8-.78.8-2.07 0-2.86zM5.41 20L4 18.59l7.72-7.72 1.47 1.35L5.41 20z\"/>\n",
              "  </svg>\n",
              "      </button>\n",
              "      \n",
              "  <style>\n",
              "    .colab-df-container {\n",
              "      display:flex;\n",
              "      flex-wrap:wrap;\n",
              "      gap: 12px;\n",
              "    }\n",
              "\n",
              "    .colab-df-convert {\n",
              "      background-color: #E8F0FE;\n",
              "      border: none;\n",
              "      border-radius: 50%;\n",
              "      cursor: pointer;\n",
              "      display: none;\n",
              "      fill: #1967D2;\n",
              "      height: 32px;\n",
              "      padding: 0 0 0 0;\n",
              "      width: 32px;\n",
              "    }\n",
              "\n",
              "    .colab-df-convert:hover {\n",
              "      background-color: #E2EBFA;\n",
              "      box-shadow: 0px 1px 2px rgba(60, 64, 67, 0.3), 0px 1px 3px 1px rgba(60, 64, 67, 0.15);\n",
              "      fill: #174EA6;\n",
              "    }\n",
              "\n",
              "    [theme=dark] .colab-df-convert {\n",
              "      background-color: #3B4455;\n",
              "      fill: #D2E3FC;\n",
              "    }\n",
              "\n",
              "    [theme=dark] .colab-df-convert:hover {\n",
              "      background-color: #434B5C;\n",
              "      box-shadow: 0px 1px 3px 1px rgba(0, 0, 0, 0.15);\n",
              "      filter: drop-shadow(0px 1px 2px rgba(0, 0, 0, 0.3));\n",
              "      fill: #FFFFFF;\n",
              "    }\n",
              "  </style>\n",
              "\n",
              "      <script>\n",
              "        const buttonEl =\n",
              "          document.querySelector('#df-0f65d45f-2d45-4ef6-88ae-e469589d40fb button.colab-df-convert');\n",
              "        buttonEl.style.display =\n",
              "          google.colab.kernel.accessAllowed ? 'block' : 'none';\n",
              "\n",
              "        async function convertToInteractive(key) {\n",
              "          const element = document.querySelector('#df-0f65d45f-2d45-4ef6-88ae-e469589d40fb');\n",
              "          const dataTable =\n",
              "            await google.colab.kernel.invokeFunction('convertToInteractive',\n",
              "                                                     [key], {});\n",
              "          if (!dataTable) return;\n",
              "\n",
              "          const docLinkHtml = 'Like what you see? Visit the ' +\n",
              "            '<a target=\"_blank\" href=https://colab.research.google.com/notebooks/data_table.ipynb>data table notebook</a>'\n",
              "            + ' to learn more about interactive tables.';\n",
              "          element.innerHTML = '';\n",
              "          dataTable['output_type'] = 'display_data';\n",
              "          await google.colab.output.renderOutput(dataTable, element);\n",
              "          const docLink = document.createElement('div');\n",
              "          docLink.innerHTML = docLinkHtml;\n",
              "          element.appendChild(docLink);\n",
              "        }\n",
              "      </script>\n",
              "    </div>\n",
              "  </div>\n",
              "  "
            ]
          },
          "metadata": {},
          "execution_count": 1
        }
      ],
      "source": [
        "import pandas as pd\n",
        "df=pd.read_csv('https://raw.githubusercontent.com/2deezer2/-Auto-pricing-mashinki-/main/Data.csv')\n",
        "df"
      ]
    },
    {
      "cell_type": "markdown",
      "source": [
        "## **Чем новее модель автомобиля, тем выше цена на него.**\n",
        "\n",
        "Для проверки данной гипотезы можно использовать корреляционный анализ."
      ],
      "metadata": {
        "id": "CTzC_Yi4AURE"
      }
    },
    {
      "cell_type": "code",
      "source": [
        "import numpy as np\n",
        "from scipy.stats import pearsonr\n",
        "\n",
        "df['Age'] = 2023 - df['Year']\n",
        "\n",
        "# вычисление коэффициента корреляции Пирсона\n",
        "corr, _ = pearsonr(df['Age'], df['Price'])\n",
        "\n",
        "# вывод результата\n",
        "if corr > 0:\n",
        "    print('Есть положительная корреляция между возрастом модели и ценой на автомобиль')\n",
        "else:\n",
        "    print('Есть отрицательная корреляции между возрастом модели и ценой на автомобиль')\n",
        "print(f'Коэффициент корреляции: {corr:.2f}')"
      ],
      "metadata": {
        "colab": {
          "base_uri": "https://localhost:8080/"
        },
        "id": "dnbAxPF8Aox7",
        "outputId": "8e366520-3f1b-41c5-8c44-68634ee5fc52"
      },
      "execution_count": 9,
      "outputs": [
        {
          "output_type": "stream",
          "name": "stdout",
          "text": [
            "Есть отрицательная корреляции между возрастом модели и ценой на автомобиль\n",
            "Коэффициент корреляции: -0.56\n"
          ]
        }
      ]
    },
    {
      "cell_type": "markdown",
      "source": [
        "Для определения статистической значимости и проверки нулевой гипотезы (нет корреляции между возрастом модели и ценой на автомобиль) можно использовать t-тест Стьюдента."
      ],
      "metadata": {
        "id": "ta7KZMIeBHiz"
      }
    },
    {
      "cell_type": "code",
      "source": [
        "from scipy.stats import t\n",
        "from numpy import sqrt\n",
        "\n",
        "# вычисление длины выборки\n",
        "n = len(df)\n",
        "\n",
        "# вычисление значения t-статистики\n",
        "t_stat = corr * sqrt(n - 2) / sqrt(1 - corr**2)\n",
        "\n",
        "# определение уровня значимости для t-теста\n",
        "alpha = 0.05\n",
        "\n",
        "# определение критической области\n",
        "cv = t.ppf(1 - alpha / 2, n - 2)\n",
        "\n",
        "# вывод результата\n",
        "if abs(t_stat) > cv:\n",
        "    print('Корреляция между возрастом модели и ценой на автомобиль является статистически значимой')\n",
        "else:\n",
        "    print('Корреляция между возрастом модели и ценой на автомобиль не является статистически значимой')\n",
        "print(f't-статистика: ', t_stat)"
      ],
      "metadata": {
        "colab": {
          "base_uri": "https://localhost:8080/"
        },
        "id": "ryTUbTvWBNwM",
        "outputId": "8f62c2b7-8d7d-45be-cf8d-010de01eb19f"
      },
      "execution_count": 8,
      "outputs": [
        {
          "output_type": "stream",
          "name": "stdout",
          "text": [
            "Корреляция между возрастом модели и ценой на автомобиль является статистически значимой\n",
            "t-статистика:  -176.61363417271056\n"
          ]
        }
      ]
    },
    {
      "cell_type": "markdown",
      "source": [
        "Корреляция между возрастом модели и ценой на автомобиль является статистически значимой, поэтому мы можем сделать вывод о том, что существует значимая связь между возрастом автомобиля и его ценой. В данном случае, коэффициент корреляции отрицательный, соответственно можно сделать вывод о том, что на рынке автомобилей более старших лет цены ниже, чем на более новые модели.\n",
        "\n",
        "Вывод: **гипотеза подтвердилась**."
      ],
      "metadata": {
        "id": "mc1zenmwB9Jv"
      }
    },
    {
      "cell_type": "markdown",
      "source": [
        "##**Цена на автомобиль тем меньше, чем больше его пробег**"
      ],
      "metadata": {
        "id": "Mwt5HTgCHj5K"
      }
    },
    {
      "cell_type": "code",
      "source": [
        "corr, pval = pearsonr(df['Mileage'], df['Price'])\n",
        "\n",
        "# Вывод результатов корреляционного анализа\n",
        "print(f'Коэффициент корреляции: {corr:.3f}')\n",
        "print(f'P-value: {pval:.3f}')\n",
        "\n",
        "if pval < 0.05:\n",
        "    print('Существует статистически значимая зависимость между ценой и пробегом')\n",
        "else:\n",
        "    print('Нет статистически значимой зависимости между ценой и пробегом')"
      ],
      "metadata": {
        "colab": {
          "base_uri": "https://localhost:8080/"
        },
        "id": "tISx4yKQHi27",
        "outputId": "ead9c297-0bcd-4294-9ea5-f84cbd597425"
      },
      "execution_count": 10,
      "outputs": [
        {
          "output_type": "stream",
          "name": "stdout",
          "text": [
            "Коэффициент корреляции: -0.482\n",
            "P-value: 0.000\n",
            "Существует статистически значимая зависимость между ценой и пробегом\n"
          ]
        }
      ]
    },
    {
      "cell_type": "markdown",
      "source": [
        "Так как значение P-value меньше 0.05, то существует статистически значимая зависимость между ценой и пробегом, а коэффициент корреляции Пирсона -0.482 говорит о том, что присутствует отрицательная корреляционная связь между ценой и пробегом, то есть чем больше пробег, тем ниже цена на автомобиль. Вывод: **гипотеза подтвердилась.**"
      ],
      "metadata": {
        "id": "kRzf5ZF4IADn"
      }
    },
    {
      "cell_type": "markdown",
      "source": [
        "## **Автомобили, которые имеют наменьшее количество владельцев, стоят дороже.**"
      ],
      "metadata": {
        "id": "U-fmxc_5Ib-L"
      }
    },
    {
      "cell_type": "code",
      "source": [
        "corr, pval = pearsonr(df['Number_of_owners'], df['Price'])\n",
        "\n",
        "# Вывод результатов корреляционного анализа\n",
        "print(f'Коэффициент корреляции: {corr:.3f}')\n",
        "print(f'P-value: {pval:.3f}')\n",
        "\n",
        "if pval < 0.05:\n",
        "    print('Существует статистически значимая зависимость между ценой и количеством владельцев')\n",
        "else:\n",
        "    print('Нет статистически значимой зависимости между ценой и количеством владельцев')"
      ],
      "metadata": {
        "colab": {
          "base_uri": "https://localhost:8080/"
        },
        "id": "PHsm43iXIfhD",
        "outputId": "9d6904b3-f100-4e00-ee05-d7681ec708be"
      },
      "execution_count": 17,
      "outputs": [
        {
          "output_type": "stream",
          "name": "stdout",
          "text": [
            "Коэффициент корреляции: -0.584\n",
            "P-value: 0.000\n",
            "Существует статистически значимая зависимость между ценой и пробегом\n"
          ]
        }
      ]
    },
    {
      "cell_type": "markdown",
      "source": [
        "Исходя из полученных результатов, можно сделать вывод, что между ценой и пробегом существует отрицательная связь. Коэффициент корреляции равен -0,584, что говорит о том, что с увеличением пробега цена на автомобиль снижается.\n",
        "\n",
        "P-value, равное 0, означает, что вероятность получить такой или еще более выраженный коэффициент корреляции при отсутствии связи между переменными крайне мала, что говорит о статистической значимости полученной зависимости.\n",
        "\n",
        "Таким образом, можно сделать вывод, что между ценой и пробегом существует статистически значимая зависимость, и пробег может быть одним из факторов, влияющих на цену автомобиля. Вывод: **гипотеза подтвердилась**"
      ],
      "metadata": {
        "id": "7t5eUOiCK7hE"
      }
    }
  ]
}
