{
 "cells": [
  {
   "cell_type": "code",
   "execution_count": 91,
   "metadata": {
    "colab": {
     "base_uri": "https://localhost:8080/"
    },
    "id": "2E-DXsweGVlZ",
    "outputId": "3c211e60-ba4c-4f8e-adc6-a19f1196e48c"
   },
   "outputs": [
    {
     "name": "stdout",
     "output_type": "stream",
     "text": [
      "Requirement already satisfied: requests in c:\\users\\user\\anaconda3\\lib\\site-packages (2.26.0)\n",
      "Requirement already satisfied: urllib3<1.27,>=1.21.1 in c:\\users\\user\\anaconda3\\lib\\site-packages (from requests) (1.26.7)\n",
      "Requirement already satisfied: certifi>=2017.4.17 in c:\\users\\user\\anaconda3\\lib\\site-packages (from requests) (2021.10.8)\n",
      "Requirement already satisfied: charset-normalizer~=2.0.0 in c:\\users\\user\\anaconda3\\lib\\site-packages (from requests) (2.0.4)\n",
      "Requirement already satisfied: idna<4,>=2.5 in c:\\users\\user\\anaconda3\\lib\\site-packages (from requests) (3.2)\n"
     ]
    }
   ],
   "source": [
    "!pip install requests"
   ]
  },
  {
   "cell_type": "code",
   "execution_count": 92,
   "metadata": {},
   "outputs": [],
   "source": [
    "Custom = list() #создаю листы для всех переменных\n",
    "Number_of_owners = list()\n",
    "Year = list()\n",
    "Price = list()\n",
    "Region = list()\n",
    "Mileage = list()\n",
    "Brand = list()\n",
    "Segment = list()\n",
    "Power = list()\n",
    "Type = list()\n",
    "Engine_type = list()\n",
    "Gear_type = list()\n",
    "Steering_wheel = list()\n",
    "korobka = list()\n",
    "Volume = list()\n",
    "info = {'Custom': Custom, 'Number_of_owners': Number_of_owners,'Year': Year, \n",
    "        'Price': Price, 'Region' :Region, 'Mileage': Mileage, \n",
    "        'Brand': Brand, 'Сегмент': Segment, 'Power': Power, 'Type': Type, \n",
    "        'Engine_type': Engine_type, 'Положение руля': Steering_wheel,\n",
    "        'Привод': Gear_type, \"Transmission\": korobka, 'Объём двигателя': Volume} #Словарь списков для создания датафрейма\n"
   ]
  },
  {
   "cell_type": "code",
   "execution_count": null,
   "metadata": {
    "colab": {
     "base_uri": "https://localhost:8080/",
     "height": 380
    },
    "id": "5iQwx1IcgdHO",
    "outputId": "59aaf4c0-3260-4993-f10e-f5e5bd8e1278"
   },
   "outputs": [],
   "source": [
    "import requests #Библиотека для запроса\n",
    "import pandas as pd\n",
    "# https://youtu.be/CznaOZaGTz0\n",
    "a = 1 #Переменная для перехода по страницам\n",
    "\n",
    "\n",
    "\n",
    "while a <= 200: #Всего 1809 страниц на сайте\n",
    "    URL = 'https://auto.ru/-/ajax/desktop/listing/' #URL на который будет отправлен запрос\n",
    "\n",
    "    #Параметры запроса\n",
    "    PARAMS = {\n",
    "         'section': \"all\",\n",
    "         'category': \"cars\",\n",
    "         'sort': \"fresh_relevance_1-desc\",\n",
    "         'page': a\n",
    "        }\n",
    "    #Заголовки страницы\n",
    "    HEADERS = {\n",
    "        'Accept': '*/*',\n",
    "        'Accept-Encoding': 'gzip, deflate, br',\n",
    "        'Accept-Language': 'ru-RU,ru;q=0.8,en-US;q=0.5,en;q=0.3',\n",
    "        'Connection': 'keep-alive',\n",
    "        'Content-Length': '137',\n",
    "        'content-type': 'application/json',\n",
    "        'Cookie': '_csrf_token=1c0ed592ec162073ac34d79ce511f0e50d195f763abd8c24; autoru_sid=a%3Ag5e3b198b299o5jhpv6nlk0ro4daqbpf.fa3630dbc880ea80147c661111fb3270%7C1580931467355.604800.8HnYnADZ6dSuzP1gctE0Fw.cd59AHgDSjoJxSYHCHfDUoj-f2orbR5pKj6U0ddu1G4; autoruuid=g5e3b198b299o5jhpv6nlk0ro4daqbpf.fa3630dbc880ea80147c661111fb3270; suid=48a075680eac323f3f9ad5304157467a.bc50c5bde34519f174ccdba0bd791787; from_lifetime=1580933172327; from=yandex; X-Vertis-DC=myt; crookie=bp+bI7U7P7sm6q0mpUwAgWZrbzx3jePMKp8OPHqMwu9FdPseXCTs3bUqyAjp1fRRTDJ9Z5RZEdQLKToDLIpc7dWxb90=; cmtchd=MTU4MDkzMTQ3MjU0NQ==; yandexuid=1758388111580931457; bltsr=1; navigation_promo_seen-recalls=true',\n",
    "        'Host': 'auto.ru',\n",
    "        'origin': 'https://auto.ru',\n",
    "        'Referer': 'https://auto.ru/moskovskaya_oblast/cars/used/',\n",
    "        'User-Agent': 'Mozilla/5.0 (Windows NT 10.0; Win64; x64; rv:72.0) Gecko/20100101 Firefox/72.0',\n",
    "        'x-client-app-version': '202002.03.092255',\n",
    "        'x-client-date': '1580933207763',\n",
    "        'x-csrf-token': '1c0ed592ec162073ac34d79ce511f0e50d195f763abd8c24',\n",
    "        'x-page-request-id': '60142cd4f0c0edf51f96fd0134c6f02a',\n",
    "        'x-requested-with': 'fetch'\n",
    "    }\n",
    "\n",
    "    response = requests.post(URL, json=PARAMS, headers=HEADERS)#Создаём запрос на сайт с параметрами\n",
    "    data = response.json()['offers'] #Переменная data хранит полученные объявления\n",
    "\n",
    "    i = 0 \n",
    "    while i <= len(data) - 1:\n",
    "\n",
    "        #Растаможен ли автомобиль (возвращает True или False)\n",
    "        Custom.append(int(bool(data[i]['documents']['custom_cleared'])))\n",
    "\n",
    "        #Колличество владельцев автомобиля\n",
    "        Number_of_owners.append(int(data[i]['documents']['owners_number']))\n",
    "\n",
    "        #Год выпуска автомобиля\n",
    "        Year.append(int(data[i]['documents']['year']))\n",
    "\n",
    "        #Цена в рублях\n",
    "        Price.append(float(data[i]['price_info']['RUR']))\n",
    "\n",
    "        #Тип двигателя\n",
    "        Engine_type.append(data[i]['vehicle_info']['tech_param']['engine_type'])\n",
    "\n",
    "        #Коробка передач\n",
    "        korobka.append(data[i]['vehicle_info']['tech_param']['transmission'])\n",
    "\n",
    "        #Регион, в котором находится автомобиль\n",
    "        Region.append(str(data[i]['seller']['location']['region_info']['name']))\n",
    "        \n",
    "        #Пробег автомобиля\n",
    "        Mileage.append(float(data[i]['state']['mileage']))\n",
    "\n",
    "        #Объём двигателя пока не смог вытащить, но позже думаю можно\n",
    "\n",
    "        #Лошадиные силы\n",
    "        Power.append(float(data[i]['vehicle_info']['tech_param']['power']))\n",
    "\n",
    "        #Название автомобиля\n",
    "        Type.append(str(data[i]['vehicle_info']['configuration']['human_name']))\n",
    "\n",
    "        #Марка автомобиля\n",
    "        Brand.append(str(data[i]['vehicle_info']['mark_info']['name']))\n",
    "        \n",
    "        #Привод автомобиля\n",
    "        Gear_type.append(str(data[i]['vehicle_info']['tech_param']['gear_type']))\n",
    "        \n",
    "        #Сторона руля\n",
    "        Steering_wheel.append(str(data[i]['vehicle_info']['steering_wheel']))\n",
    "\n",
    "        #Ценовой сегмент\n",
    "        if 'price_segment' in data[i]['vehicle_info']['super_gen']:\n",
    "            Segment.append(str(data[i]['vehicle_info']['super_gen']['price_segment']))\n",
    "        else:\n",
    "            Segment.append('Не удалось получить сегмент')\n",
    "        #Объём двигателя\n",
    "        if 'human_name' not in data[i]['vehicle_info']['tech_param']:\n",
    "            Volume.append(0)\n",
    "        elif 'nameplate' in data[i]['vehicle_info']['tech_param']:\n",
    "            kek = len(data[i]['vehicle_info']['tech_param']['nameplate'].split())\n",
    "            Volume.append(float(data[i]['vehicle_info']['tech_param']['human_name'].\n",
    "                                split()[kek].strip('abcdefghijklmnopqrstuvwxyz')))\n",
    "        elif 'nameplate' not in data[i]['vehicle_info']['tech_param']:\n",
    "            Volume.append(float(data[i]['vehicle_info']['tech_param']['human_name'].\n",
    "                                split()[0].strip('abcdefghijklmnopqrstuvwxyz')))\n",
    "\n",
    "        i += 1 #Увеличиваем переменную перехода по объявлениям на 1\n",
    "    a += 1 #Увеличиваем переменную страницы сайта на 1\n",
    "print(len(Brand), len(Segment), len(Volume))\n",
    "\n",
    "df = pd.DataFrame(info)\n",
    "df"
   ]
  },
  {
   "cell_type": "code",
   "execution_count": 80,
   "metadata": {
    "colab": {
     "base_uri": "https://localhost:8080/"
    },
    "id": "v8ut9pMcsAY2",
    "outputId": "58840fe9-19da-4b2a-987c-f7fc07386f9c"
   },
   "outputs": [
    {
     "data": {
      "text/plain": [
       "Custom              0\n",
       "Number_of_owners    0\n",
       "Year                0\n",
       "Price               0\n",
       "Region              0\n",
       "Mileage             0\n",
       "Brand               0\n",
       "Сегмент             0\n",
       "Power               0\n",
       "Type                0\n",
       "Engine_type         0\n",
       "Положение руля      0\n",
       "Привод              0\n",
       "Transmission        0\n",
       "dtype: int64"
      ]
     },
     "execution_count": 80,
     "metadata": {},
     "output_type": "execute_result"
    }
   ],
   "source": [
    "df.isna().sum()"
   ]
  },
  {
   "cell_type": "code",
   "execution_count": 70,
   "metadata": {
    "colab": {
     "base_uri": "https://localhost:8080/"
    },
    "id": "0X7DRwksw7yA",
    "outputId": "9bf044e0-7f5c-40f0-a107-219333dbdc30"
   },
   "outputs": [
    {
     "data": {
      "text/plain": [
       "2.0"
      ]
     },
     "execution_count": 70,
     "metadata": {},
     "output_type": "execute_result"
    }
   ],
   "source": [
    "data = response.json()['offers']\n",
    "data[2]\n",
    "float(data[3]['vehicle_info']['tech_param']['human_name'].split()[len()].strip('abcdefg')) #Здесь смотрел какие переменные могу достать"
   ]
  },
  {
   "cell_type": "code",
   "execution_count": 76,
   "metadata": {},
   "outputs": [
    {
     "data": {
      "text/plain": [
       "{'gear_type': 'REAR_DRIVE',\n",
       " 'engine_type': 'GASOLINE',\n",
       " 'transmission': 'MECHANICAL',\n",
       " 'id': '20394304',\n",
       " 'name': '200',\n",
       " 'nameplate': '200',\n",
       " 'displacement': 1998,\n",
       " 'power': 163,\n",
       " 'power_kvt': 120,\n",
       " 'human_name': '200 2.0 MT (163 л.с.)'}"
      ]
     },
     "execution_count": 76,
     "metadata": {},
     "output_type": "execute_result"
    }
   ],
   "source": [
    "data[9]['vehicle_info']['tech_param']"
   ]
  },
  {
   "cell_type": "code",
   "execution_count": null,
   "metadata": {
    "colab": {
     "base_uri": "https://localhost:8080/"
    },
    "id": "hQjZt0eDYvr2",
    "outputId": "23ab08e5-0980-439a-c335-d62c2632f2aa"
   },
   "outputs": [],
   "source": [
    "df.to_csv('Data')"
   ]
  },
  {
   "cell_type": "code",
   "execution_count": null,
   "metadata": {
    "id": "Pz6aGOtkyqv4"
   },
   "outputs": [],
   "source": []
  }
 ],
 "metadata": {
  "colab": {
   "provenance": []
  },
  "kernelspec": {
   "display_name": "Python 3 (ipykernel)",
   "language": "python",
   "name": "python3"
  },
  "language_info": {
   "codemirror_mode": {
    "name": "ipython",
    "version": 3
   },
   "file_extension": ".py",
   "mimetype": "text/x-python",
   "name": "python",
   "nbconvert_exporter": "python",
   "pygments_lexer": "ipython3",
   "version": "3.9.7"
  }
 },
 "nbformat": 4,
 "nbformat_minor": 1
}
